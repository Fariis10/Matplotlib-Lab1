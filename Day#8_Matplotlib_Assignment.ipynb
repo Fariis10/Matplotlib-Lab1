{
 "cells": [
  {
   "cell_type": "code",
   "execution_count": 92,
   "id": "463214ee",
   "metadata": {},
   "outputs": [],
   "source": [
    "import numpy as np\n",
    "import pandas as pd\n",
    "import matplotlib.pyplot as plt"
   ]
  },
  {
   "cell_type": "markdown",
   "id": "5d9650fe",
   "metadata": {},
   "source": [
    "## Q1: Create two charts using list and dataframe"
   ]
  },
  {
   "cell_type": "code",
   "execution_count": 93,
   "id": "7814bbfa",
   "metadata": {},
   "outputs": [
    {
     "data": {
      "image/png": "[encoded data removed]",
      "text/plain": [
       "<Figure size 640x480 with 1 Axes>"
      ]
     },
     "metadata": {},
     "output_type": "display_data"
    }
   ],
   "source": [
    "X = ['Group A','Group B','Group C','Group D']\n",
    "Ygirls = [10,20,20,40]\n",
    "Zboys = [20,30,25,30]\n",
    "  \n",
    "    \n",
    "    \n",
    "X_axis = np.arange(len(X))\n",
    "  \n",
    "plt.bar(X_axis - 0.2, Ygirls, 0.4, label = 'Girls')\n",
    "plt.bar(X_axis + 0.2, Zboys, 0.4, label = 'Boys')\n",
    "  \n",
    "plt.xticks(X_axis, X)\n",
    "plt.xlabel(\"Groups\")\n",
    "plt.ylabel(\"Number of Students\")\n",
    "plt.title(\"Number of Students in each group\")\n",
    "plt.show()\n"
   ]
  },
  {
   "cell_type": "code",
   "execution_count": 94,
   "id": "981980c3",
   "metadata": {},
   "outputs": [
    {
     "ename": "TypeError",
     "evalue": "list indices must be integers or slices, not str",
     "output_type": "error",
     "traceback": [
      "\u001b[1;31m---------------------------------------------------------------------------\u001b[0m",
      "\u001b[1;31mTypeError\u001b[0m                                 Traceback (most recent call last)",
      "\u001b[1;32m~\\AppData\\Local\\Temp\\ipykernel_8936\\1788381307.py\u001b[0m in \u001b[0;36m<module>\u001b[1;34m\u001b[0m\n\u001b[1;32m----> 1\u001b[1;33m \u001b[0mplt\u001b[0m\u001b[1;33m.\u001b[0m\u001b[0mbar\u001b[0m\u001b[1;33m(\u001b[0m\u001b[0mx\u001b[0m\u001b[1;33m[\u001b[0m\u001b[1;34m'Ygirls'\u001b[0m\u001b[1;33m]\u001b[0m\u001b[1;33m,\u001b[0m\u001b[0mx\u001b[0m\u001b[1;33m[\u001b[0m\u001b[1;34m'Zboys'\u001b[0m\u001b[1;33m]\u001b[0m\u001b[1;33m,\u001b[0m\u001b[0mcolor\u001b[0m\u001b[1;33m=\u001b[0m\u001b[1;33m[\u001b[0m\u001b[1;34m'red'\u001b[0m\u001b[1;33m,\u001b[0m\u001b[1;34m'blue'\u001b[0m\u001b[1;33m,\u001b[0m\u001b[1;34m'green'\u001b[0m\u001b[1;33m]\u001b[0m\u001b[1;33m)\u001b[0m\u001b[1;33m\u001b[0m\u001b[1;33m\u001b[0m\u001b[0m\n\u001b[0m\u001b[0;32m      2\u001b[0m \u001b[0mplt\u001b[0m\u001b[1;33m.\u001b[0m\u001b[0mxlabel\u001b[0m\u001b[1;33m(\u001b[0m\u001b[1;34m\"Groups\"\u001b[0m\u001b[1;33m)\u001b[0m\u001b[1;33m\u001b[0m\u001b[1;33m\u001b[0m\u001b[0m\n\u001b[0;32m      3\u001b[0m \u001b[0mplt\u001b[0m\u001b[1;33m.\u001b[0m\u001b[0mylabel\u001b[0m\u001b[1;33m(\u001b[0m\u001b[1;34m\"Number of Students\"\u001b[0m\u001b[1;33m)\u001b[0m\u001b[1;33m\u001b[0m\u001b[1;33m\u001b[0m\u001b[0m\n\u001b[0;32m      4\u001b[0m \u001b[0mplt\u001b[0m\u001b[1;33m.\u001b[0m\u001b[0mtitle\u001b[0m\u001b[1;33m(\u001b[0m\u001b[1;34m\"Number of Students in each group\"\u001b[0m\u001b[1;33m)\u001b[0m\u001b[1;33m\u001b[0m\u001b[1;33m\u001b[0m\u001b[0m\n\u001b[0;32m      5\u001b[0m \u001b[0mplt\u001b[0m\u001b[1;33m.\u001b[0m\u001b[0mshow\u001b[0m\u001b[1;33m(\u001b[0m\u001b[1;33m)\u001b[0m\u001b[1;33m\u001b[0m\u001b[1;33m\u001b[0m\u001b[0m\n",
      "\u001b[1;31mTypeError\u001b[0m: list indices must be integers or slices, not str"
     ]
    }
   ],
   "source": [
    "plt.bar(x['Ygirls'],x['Zboys'],color=['red','blue','green'])\n",
    "plt.xlabel(\"Groups\")\n",
    "plt.ylabel(\"Number of Students\")\n",
    "plt.title(\"Number of Students in each group\")\n",
    "plt.show()\n"
   ]
  },
  {
   "cell_type": "markdown",
   "id": "b47054b9",
   "metadata": {},
   "source": [
    "## Q2: Create pie chart with equal explode values."
   ]
  },
  {
   "cell_type": "code",
   "execution_count": null,
   "id": "c8ec89e1",
   "metadata": {},
   "outputs": [],
   "source": [
    "games=['bootball','tennisball','basetball']\n",
    "views=[100,200,300]\n",
    "colors = ['r','g','b']\n",
    "\n",
    "plt.pie(views,labels=video, autopct='%1.2f%%', colors =colors,  startangle=90, radius=1.5)\n",
    "\n",
    "plt.show()"
   ]
  },
  {
   "cell_type": "markdown",
   "id": "778fae26",
   "metadata": {},
   "source": [
    "## Q3: Create a scatter chart with circle marker, alpha = 0.4, and size = 50."
   ]
  },
  {
   "cell_type": "code",
   "execution_count": null,
   "id": "6c46aade",
   "metadata": {},
   "outputs": [],
   "source": [
    "x = [5,7,8,7,2,17,2,9,4,11,12,9,6]\n",
    "y = [99,86,87,88,111,86,103,87,94,78,77,85,86]\n",
    "\n",
    "plt.scatter(x, y)\n",
    "plt.show()"
   ]
  },
  {
   "cell_type": "markdown",
   "id": "7f07ea21",
   "metadata": {},
   "source": [
    "## Q4: Add the following to your chart:\n",
    "- title placed in the left and has a red color\n",
    "- x and y label with font size = 16"
   ]
  },
  {
   "cell_type": "code",
   "execution_count": null,
   "id": "d6e700d2",
   "metadata": {},
   "outputs": [],
   "source": [
    "plt.title('sport')\n",
    "plt.ylabel('bootball',fontdict={'size':16})\n",
    "plt.xlabel('basketball',fontdict={'size':16})\n",
    "plt.show()"
   ]
  },
  {
   "cell_type": "markdown",
   "id": "1e69689c",
   "metadata": {},
   "source": [
    "## Q5: Create three line charts with Legends at left and colors"
   ]
  },
  {
   "cell_type": "code",
   "execution_count": null,
   "id": "139a9f70",
   "metadata": {},
   "outputs": [],
   "source": [
    "x1 = [10,20,30]\n",
    "y1 = [20,40,10]\n",
    "# line 2 points\n",
    "x2 = [10,20,30]\n",
    "y2 = [40,10,30]\n",
    "\n",
    "plt.xlabel('x - axis')\n",
    "plt.ylabel('y - axis')\n",
    "plt.title('Two or more lines with different widths and colors with suitable legends ')\n",
    "\n",
    "plt.plot(x1,y1, color='blue', linewidth = 3,  label = 'line1-width-3')\n",
    "plt.plot(x2,y2, color='red', linewidth = 5,  label = 'line2-width-5')\n",
    "plt.legend()\n",
    "plt.show()"
   ]
  },
  {
   "cell_type": "markdown",
   "id": "50f84af4",
   "metadata": {},
   "source": [
    "## Q6: Create subplots with three charts and figsize=20,10"
   ]
  },
  {
   "cell_type": "code",
   "execution_count": null,
   "id": "9fa2f9ee",
   "metadata": {},
   "outputs": [],
   "source": [
    "plt.figure(figsize=(6, 4))\n",
    "\n",
    "fig, (ax1, ax2)  = plt.subplots(1, 2,\n",
    "                                sharey='row')\n",
    "\n",
    "ax1.text(0.5, 0.5, \n",
    "              \"left\",\n",
    "              color=\"green\",\n",
    "              fontsize=20, \n",
    "              ha='center')\n",
    "\n",
    "ax2.text(0.5, 0.5, \n",
    "              \"right\",\n",
    "              color=\"green\",\n",
    "              fontsize=10, \n",
    "              ha='center')\n",
    "\n",
    "plt.show()\n"
   ]
  },
  {
   "cell_type": "code",
   "execution_count": null,
   "id": "90975b6f",
   "metadata": {},
   "outputs": [],
   "source": []
  }
 ],
 "metadata": {
  "kernelspec": {
   "display_name": "Python 3 (ipykernel)",
   "language": "python",
   "name": "python3"
  },
  "language_info": {
   "codemirror_mode": {
    "name": "ipython",
    "version": 3
   },
   "file_extension": ".py",
   "mimetype": "text/x-python",
   "name": "python",
   "nbconvert_exporter": "python",
   "pygments_lexer": "ipython3",
   "version": "3.9.13"
  }
 },
 "nbformat": 4,
 "nbformat_minor": 5
}
